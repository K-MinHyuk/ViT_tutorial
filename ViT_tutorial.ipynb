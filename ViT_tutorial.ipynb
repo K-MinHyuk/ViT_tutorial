{
 "cells": [
  {
   "cell_type": "markdown",
   "metadata": {},
   "source": [
    "# ViT를 위한 간단한 tutorial 입니다. \n",
    "![](./img/vit_title.png)\n",
    "<figcaption style=\"text-align:center; font-size:15px; color:#808080; margin-top:40px\">\n",
    "    \"ViT 논문 Title\"\n",
    "  </figcaption>\n",
    "\n",
    "너무나도 유명한 논문이죠. \n",
    "Attention is all you need 에서 제안된 Transformer 모델의 Encoder 부분만을 사용하여 Image 를 입력으로 하는 Transformer 라고 생각하시면 됩니다. \n",
    "\n",
    "이 논문 이전의 Transformer 의 경우, 주로 자연어 처리를 위해 사용되었습니다. \n",
    "하지만 ViT 를 시작으로, Vision 이나 Image-text 와 같은 multi-modal 작업에도 Transformer 가 활발하게 사용되고 있습니다.\n",
    "\n",
    "논문에서 강조하는 것은, Image processing 에서 CNN 없이 순수하게 Transformer 만을 사용할 수 있고,\n",
    "이렇게 사용하게 되면, CNN 에 비해 더 Scalable 하다는 장점을 가질 수 있습니다. \n",
    "또한, 성능도 CNN 을 상위하는 성능을 가졌으니 각 부분들을 잘 정리해 보죠!\n"
   ]
  },
  {
   "cell_type": "code",
   "execution_count": null,
   "metadata": {},
   "outputs": [],
   "source": []
  },
  {
   "cell_type": "code",
   "execution_count": null,
   "metadata": {},
   "outputs": [],
   "source": []
  },
  {
   "cell_type": "code",
   "execution_count": null,
   "metadata": {},
   "outputs": [],
   "source": []
  },
  {
   "cell_type": "code",
   "execution_count": null,
   "metadata": {},
   "outputs": [],
   "source": []
  },
  {
   "cell_type": "code",
   "execution_count": null,
   "metadata": {},
   "outputs": [],
   "source": []
  }
 ],
 "metadata": {
  "language_info": {
   "name": "python"
  }
 },
 "nbformat": 4,
 "nbformat_minor": 2
}
