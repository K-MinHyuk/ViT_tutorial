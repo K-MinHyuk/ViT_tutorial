{
 "cells": [
  {
   "cell_type": "markdown",
   "metadata": {},
   "source": [
    "# Image Embedding\n",
    "\n",
    "![](./img/model_architecture.png)\n",
    "\n",
    "<figcaption style=\"text-align:center; font-size:15px; color:#808080; margin-top:40px\">\n",
    "    \"ViT architecture\"\n",
    "  </figcaption>\n",
    "\n",
    "가장 먼저 만나게 되는 Image Embedding 파트 입니다!\n",
    "\n",
    "다음 4단계로 Image 를 Embedding 합니다.\n",
    "- Image 를 Patch 라는 단위로 나누기\n",
    "- Image 데이터를 Patch 를 기준으로 Flatten 하기\n",
    "- Flatten 된 Vector 에 Class token 을 추가하기\n",
    "- Class token 이 추가된 Vector 에 Positional Embedding 더하기 "
   ]
  },
  {
   "cell_type": "code",
   "execution_count": 1,
   "metadata": {},
   "outputs": [],
   "source": [
    "import torch\n",
    "import torch.nn.functional as F\n",
    "import matplotlib.pyplot as plt\n",
    "\n",
    "from torch import nn\n",
    "from torch import Tensor\n",
    "from PIL import Image\n",
    "from torchvision.transforms import Compose, Resize, ToTensor\n",
    "from einops import rearrange, reduce, repeat\n",
    "from einops.layers.torch import Rearrange, Reduce\n",
    "from torchsummary import summary"
   ]
  },
  {
   "cell_type": "markdown",
   "metadata": {},
   "source": [
    "## 다소 생소할 수 있는 einops 패키지를 소개하겠습니다\n",
    "\n"
   ]
  }
 ],
 "metadata": {
  "kernelspec": {
   "display_name": "torch",
   "language": "python",
   "name": "python3"
  },
  "language_info": {
   "codemirror_mode": {
    "name": "ipython",
    "version": 3
   },
   "file_extension": ".py",
   "mimetype": "text/x-python",
   "name": "python",
   "nbconvert_exporter": "python",
   "pygments_lexer": "ipython3",
   "version": "3.12.3"
  }
 },
 "nbformat": 4,
 "nbformat_minor": 2
}
