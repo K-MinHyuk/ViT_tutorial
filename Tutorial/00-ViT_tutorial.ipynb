{
 "cells": [
  {
   "cell_type": "markdown",
   "metadata": {},
   "source": [
    "# ViT를 위한 간단한 tutorial 입니다. \n",
    "![](./img/vit_title.png)\n",
    "<figcaption style=\"text-align:center; font-size:15px; color:#808080; margin-top:40px\">\n",
    "    \"ViT 논문 Title\"\n",
    "  </figcaption>\n",
    "\n",
    "너무나도 유명한 [논문](https://arxiv.org/abs/2010.11929)이죠. \n",
    "Attention is all you need 에서 제안된 Transformer 모델의 Encoder 부분만을 사용하여 Image 를 입력으로 하는 Transformer 라고 생각하시면 됩니다. \n",
    "\n",
    "이 논문 이전의 Transformer 의 경우, 주로 자연어 처리를 위해 사용되었습니다. \n",
    "하지만 ViT 를 시작으로, Vision 이나 Image-text 와 같은 multi-modal 작업에도 Transformer 가 활발하게 사용되고 있습니다.\n",
    "\n",
    "논문에서 강조하는 것은, Image processing 에서 CNN 없이 순수하게 Transformer 만을 사용할 수 있고,\n",
    "\n",
    "이렇게 사용하게 되면, CNN 에 비해 더 Scalable 하다는 장점을 가질 수 있습니다. \n",
    "\n",
    "또한, 성능도 CNN 을 상위하는 성능을 가졌으니 각 부분들을 잘 정리해 보죠!"
   ]
  },
  {
   "cell_type": "markdown",
   "metadata": {},
   "source": [
    "# Over view\n",
    "![](./img/model_architecture.png)\n",
    "<figcaption style=\"text-align:center; font-size:15px; color:#808080; margin-top:40px\">\n",
    "    \"ViT architecture\"\n",
    "  </figcaption>\n",
    "\n",
    "우선, 전체적인 모델의 구조를 살펴보고 단계를 나누도록 합시다. \\\n",
    "ViT 에서는 특이하게 Image 를 patch 라는 단위로 나눕니다. \\\n",
    "이 과정을 통해 Image 를 특정 Embedding 으로 바꾸게 되는거죠. \\\n",
    "이후에 자잘한 테크닉들이 사용되지만, 결국 Embedding 으로 변환된 데이터는 NLP 에서 사용되는 방법으로 처리할 수 있게 되는 겁니다. \n",
    "\n",
    "> 자잘한 테크닉으로 사용되는 부분은,\\\n",
    " \"Patch + Position Embedding *Extra learnable [class] embedding\"\\\n",
    " 부분이라고 생각하시면 됩니다. \n",
    "\n",
    "\n",
    "이후에는, Transformer 의 Encoder 만을 사용하여 Passing 해 주고,\n",
    "이렇게 정리된 정보를 MLP Head 를 통해 특정 Class 로 추론하도록 하는거죠!\n",
    "\n",
    "-----\n",
    "\n",
    "본 Tutorial 은, 다음과 같은 단계로 구성이 됩니다. \n",
    "- 01-Image Embedding\n",
    "- 02-Multi-Head Attention\n",
    "- 03-Residual Connection\n",
    "- 04-MLP Head\n",
    "- 05-Transformer_Encoder\n",
    "- ViT\n",
    "\n",
    "그럼 단계별로 알아보도록 합시다!"
   ]
  }
 ],
 "metadata": {
  "language_info": {
   "name": "python"
  }
 },
 "nbformat": 4,
 "nbformat_minor": 2
}
