{
 "cells": [
  {
   "cell_type": "markdown",
   "metadata": {},
   "source": [
    "## 다소 생소할 수 있는 einops 패키지를 소개하겠습니다\n",
    "\n",
    "einops는 직관적으로 tensor 의 차원을 변경할 수 있는 package 입니다.\n",
    "\n",
    "주로, `rearrage` 와 `reduce`, `repeat` 을 사용합니다.\n",
    "\n",
    "많은 설명보다, 사용 예시를 보죠! \n",
    "\n",
    "본 예시는 einops 의 공식 docs 를 참고했습니다."
   ]
  },
  {
   "cell_type": "markdown",
   "metadata": {},
   "source": [
    "----\n",
    "\n",
    "## 패키지 및 이미지 준비"
   ]
  },
  {
   "cell_type": "code",
   "execution_count": 1,
   "metadata": {},
   "outputs": [],
   "source": [
    "import numpy\n",
    "from utils import display_np_arrays_as_images\n",
    "import einops\n",
    "from einops import rearrange, reduce, repeat\n",
    "from matplotlib import pyplot as plt\n",
    "\n",
    "display_np_arrays_as_images()"
   ]
  },
  {
   "cell_type": "code",
   "execution_count": 2,
   "metadata": {},
   "outputs": [
    {
     "name": "stdout",
     "output_type": "stream",
     "text": [
      "(6, 96, 96, 3) float64\n"
     ]
    }
   ],
   "source": [
    "ims = numpy.load('./resources/test_images.npy', allow_pickle=False)\n",
    "# There are 6 images of shape 96x96 with 3 color channels packed into tensor\n",
    "print(ims.shape, ims.dtype)"
   ]
  },
  {
   "cell_type": "markdown",
   "metadata": {},
   "source": [
    "위 shape 을 보시면, 6장의 $ 96 \\times 96 $ 크기의 RGB image 임을 확인할 수 있습니다.\n",
    "\n",
    "각각을 시각화 해 보죠."
   ]
  },
  {
   "cell_type": "code",
   "execution_count": 3,
   "metadata": {},
   "outputs": [
    {
     "data": {
      "image/png": "[encoded data removed]",
      "text/plain": []
     },
     "execution_count": 3,
     "metadata": {},
     "output_type": "execute_result"
    }
   ],
   "source": [
    "ims[0]"
   ]
  },
  {
   "cell_type": "code",
   "execution_count": 4,
   "metadata": {},
   "outputs": [
    {
     "data": {
      "image/png": "[encoded data removed]",
      "text/plain": []
     },
     "execution_count": 4,
     "metadata": {},
     "output_type": "execute_result"
    }
   ],
   "source": [
    "ims[1]"
   ]
  },
  {
   "cell_type": "markdown",
   "metadata": {},
   "source": [
    "-----\n",
    "\n",
    "## rearrange()\n",
    "\n",
    "이제, 위의 $ 6 \\times 96 \\times 96 \\times 3 $ 의 tensor를 변형해 봅시다!"
   ]
  },
  {
   "cell_type": "code",
   "execution_count": 5,
   "metadata": {},
   "outputs": [
    {
     "data": {
      "image/png": "[encoded data removed]",
      "text/plain": []
     },
     "execution_count": 5,
     "metadata": {},
     "output_type": "execute_result"
    }
   ],
   "source": [
    "m_example1 = einops.rearrange(ims, 'b h w c -> h (b w) c')\n",
    "m_example1"
   ]
  },
  {
   "cell_type": "code",
   "execution_count": 6,
   "metadata": {},
   "outputs": [
    {
     "name": "stdout",
     "output_type": "stream",
     "text": [
      "example_tensor shape: (6, 96, 96, 3)\n",
      "output_tensor shape: (96, 576, 3)\n"
     ]
    }
   ],
   "source": [
    "print('example_tensor shape: {}'.format(ims.shape))\n",
    "print('output_tensor shape: {}'.format(m_example1.shape))"
   ]
  },
  {
   "cell_type": "markdown",
   "metadata": {},
   "source": [
    "위 예시를 보면, ims 의 shape 을 다음과 같이 설정하였습니다.\n",
    "$$\n",
    " Batch \\times hight \\times width \\times channel \\\\\n",
    " 6 \\times 96 \\times 96 \\times 3 \n",
    "$$\n",
    "\n",
    "그리고, 코드를 보시면 다음과 같이 shape 을 mapping 해 주게 됩니다. \n",
    "```python\n",
    "einops.rearrange(ims, 'b h w c -> h (b w) c')\n",
    "```\n",
    "여기서 작성한 \n",
    "```python\n",
    "'b h w c -> h (b w) c'\n",
    " ```\n",
    " 쿼리는 임의로 shape 에 대한 변수를 설정하고, 해당 변수에 맞춰서 tensor 의 shape 을 `->` 이후의 형태로 변형하라는 의미 입니다.\n",
    "\n",
    " 또한, `()` 안에 임의로 정의한 변수를 같이 적게 되면, 자동으로 서로 곱한 형태로 변형해 줍니다.\n",
    "\n",
    " 여기서, einpos 의 놀라운 점은, `h` 로 보여지는 hight 의 차원과 크기를 유지한 채,\n",
    "\n",
    "  batch 와 width 의 차원을 융합 시켰고, \n",
    "  \n",
    "  각 차원의 위치를 바꾸는 연산을 한번에 할 수 있다는 거죠!\n",
    "\n",
    " 결론적으로 출력으로 얻어진 tensor 의 차원은\n",
    " $$\n",
    "hight \\times (batch * width) \\times channel\n",
    " $$\n",
    "이 되는 것을 알 수 있습니다. (width 의 길이가 이미지의 개수만큼 길어진 거죠)\n",
    "\n",
    "그럼 다음 예제를 보죠."
   ]
  },
  {
   "cell_type": "code",
   "execution_count": 7,
   "metadata": {},
   "outputs": [
    {
     "data": {
      "image/png": "[encoded data removed]",
      "text/plain": []
     },
     "execution_count": 7,
     "metadata": {},
     "output_type": "execute_result"
    }
   ],
   "source": [
    "rearrange(ims, '(b1 b2) h w c -> (b1 h) (b2 w) c ', b1=2)"
   ]
  },
  {
   "cell_type": "markdown",
   "metadata": {},
   "source": [
    "위 예시의 경우, `b1, b2` 라는 변수를 임의로 설정해서, 이미지를 변형한 모습입니다. \n",
    "\n",
    "`b2` 의 경우 `b1` 이 주어지면 자연스럽게 알 수 있기 때문에 굳이 넣어줄 필요가 없습니다. "
   ]
  },
  {
   "cell_type": "markdown",
   "metadata": {},
   "source": [
    "----\n",
    "\n",
    "## reduce()"
   ]
  },
  {
   "cell_type": "code",
   "execution_count": 8,
   "metadata": {},
   "outputs": [
    {
     "data": {
      "image/png": "[encoded data removed]",
      "text/plain": []
     },
     "execution_count": 8,
     "metadata": {},
     "output_type": "execute_result"
    }
   ],
   "source": [
    "reduce(ims, 'b h w c -> h w c', 'mean')"
   ]
  },
  {
   "cell_type": "markdown",
   "metadata": {},
   "source": [
    "위 예시의 경우, `reduce()` 에 대한 사용 예시입니다. \n",
    "\n",
    "말 그대로 reduce, 차원을 줄이는 것이며, 방법을 mean 으로 설정항여 위와 같은 모습으로 나타납니다. \n",
    "\n",
    "평균값을 사용하여 전체 이미지가 같이 보이게 되는거죠.\n",
    "\n",
    "```\n",
    "b h w c -> h w c\n",
    "```\n",
    "라는 표현에서, 총 이미지의 개수인 batch 에 대한 차원을 mean 으로 줄인것을 확인할 수 있습니다."
   ]
  },
  {
   "cell_type": "markdown",
   "metadata": {},
   "source": [
    "## repeat()"
   ]
  },
  {
   "cell_type": "code",
   "execution_count": 9,
   "metadata": {},
   "outputs": [
    {
     "data": {
      "image/png": "[encoded data removed]",
      "text/plain": []
     },
     "execution_count": 9,
     "metadata": {},
     "output_type": "execute_result"
    }
   ],
   "source": [
    "repeat(ims[0], 'h w c -> h (repeat w) c', repeat=3)"
   ]
  },
  {
   "cell_type": "markdown",
   "metadata": {},
   "source": [
    "마지막으로, `repeat()` 의 경우, 동일한 값을 복사해서 차원을 변경할 수 있습니다. \n",
    "\n",
    "위 예시를 보면, `repeat=3` 으로 설정하고, `'h w c -> h (repeat w) c'` 처럼 표현해서 특정 차원을 반복할 수 있습니다.\n"
   ]
  },
  {
   "cell_type": "markdown",
   "metadata": {},
   "source": [
    "-----\n",
    "\n",
    "## einops for vit"
   ]
  },
  {
   "cell_type": "code",
   "execution_count": 10,
   "metadata": {},
   "outputs": [
    {
     "name": "stdout",
     "output_type": "stream",
     "text": [
      "ims[0] shape: (96, 96, 3)\n"
     ]
    },
    {
     "data": {
      "image/png": "[encoded data removed]",
      "text/plain": [
       "<Figure size 600x600 with 36 Axes>"
      ]
     },
     "metadata": {},
     "output_type": "display_data"
    }
   ],
   "source": [
    "print('ims[0] shape:' ,ims[0].shape)\n",
    "patchs  = rearrange(ims[0], '(h s1) (w s2) c -> (h w) s1 s2 c',  s1 = 16, s2 = 16)\n",
    "\n",
    "plt.figure(figsize = (6,6))\n",
    "\n",
    "for index in range(patchs.shape[0]):\n",
    "\n",
    "    plt.subplot(6, 6, index+1)\n",
    "    plt.imshow(patchs[index])   # patch size = (B=1, 36, 16, 16,3 ) \n",
    "    plt.axis('off')\n",
    "\n",
    "plt.show()"
   ]
  },
  {
   "cell_type": "markdown",
   "metadata": {},
   "source": [
    "이제, 실제로 ViT 를 위한 연산의 예시를 고려해 봅시다.\n",
    "\n",
    "ViT 는 patch 라는 단위로, 이미지를 잘게 자릅니다. 이 과정을 위의 쿼리로 확인해 보죠!\n",
    "\n",
    "> ```python\n",
    "> ims[0] shape: (96, 96, 3)\n",
    "> patchs  = rearrange(ims[0], '(h s1) (w s2) c -> (h w) s1 s2 c',  s1 = 16, s2 = 16)\n",
    "> ```\n",
    "\n",
    "\n",
    "`ims[0]` 의 shape 이 `96, 96, 3` 일 때, 이를 `(h s1) (w s2) c` 로 표현합니다. (s1, s2 == 16)\n",
    "그럼, \n",
    "```python\n",
    "96 == h * 16,\n",
    "96 == w * 16,\n",
    "```\n",
    "이라는 표현이 되므로, 한 이미지를, $16 \\times 16$ 의 크기로 나눈 위와 같은 모습으로 나타나게 되는 거죠.\n",
    "\n",
    "`->` 이후에 `(h w) s1 s2 c`로 표현하여 $16 \\times 16$ 으로 나누어진 패치의 개수를 batch 로 놓고, $16 \\times 16 \\times 3$ 이미지를 batch 개수 만큼 가지고 있는 것 처럼 나타낼 수 있습니다.\n",
    "\n",
    "----\n",
    "\n",
    "지금까지 확인한 내용만으로도 앞으로 나올 코드는 쉽게 이해할 수 있을겁니다!\n",
    "\n",
    "> einops 에 대한 더 많은 정보는 공식 문서의 [`tutorial 문서`](https://einops.rocks/1-einops-basics/) 를 참고하시면 좋을 것 같습니다. \n"
   ]
  }
 ],
 "metadata": {
  "kernelspec": {
   "display_name": "torch",
   "language": "python",
   "name": "python3"
  },
  "language_info": {
   "codemirror_mode": {
    "name": "ipython",
    "version": 3
   },
   "file_extension": ".py",
   "mimetype": "text/x-python",
   "name": "python",
   "nbconvert_exporter": "python",
   "pygments_lexer": "ipython3",
   "version": "3.12.3"
  }
 },
 "nbformat": 4,
 "nbformat_minor": 2
}
